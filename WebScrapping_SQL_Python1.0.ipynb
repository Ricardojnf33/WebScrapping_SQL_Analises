{
  "nbformat": 4,
  "nbformat_minor": 0,
  "metadata": {
    "colab": {
      "provenance": [],
      "authorship_tag": "ABX9TyOfYTW1T62GNe6vIITQlkjV",
      "include_colab_link": true
    },
    "kernelspec": {
      "name": "python3",
      "display_name": "Python 3"
    },
    "language_info": {
      "name": "python"
    }
  },
  "cells": [
    {
      "cell_type": "markdown",
      "metadata": {
        "id": "view-in-github",
        "colab_type": "text"
      },
      "source": [
        "<a href=\"https://colab.research.google.com/github/Ricardojnf33/WebScrapping_SQL_Analises/blob/main/WebScrapping_SQL_Python1.0.ipynb\" target=\"_parent\"><img src=\"https://colab.research.google.com/assets/colab-badge.svg\" alt=\"Open In Colab\"/></a>"
      ]
    },
    {
      "cell_type": "markdown",
      "source": [
        "#\"A empresa Star Jeans! Eduardo e Marcelo são dois brasileiros, amigos e sócios de empreendimento. Depois de vários negócio bem sucedidos, eles estão planejando entrar no mercado de moda dos USA como um modelo de negócio do tipo E-commerce. A idéia inicial é entrar no mercado com apenas um produto e para um público específico, no caso o produto seria calças Jenas para o público masculino. O objetivo é manter o custo de operação baixo e escalar a medida que forem conseguindo clientes. Porém, mesmo com o produto de entrada e a audiência definidos, os dois sócios não tem experiência nesse mercado de moda e portanto não sabem definir coisas básicas como preço, o tipo de calça e o material para a fabricação de cada peça. Assim, os dois sócios contrataram uma consultoria de Ciência de Dados para responder as seguintes perguntas:\n",
        "\n",
        "####*Qual o melhor preço de venda para as calças?\n",
        "####*Quantos tipos de calças e suas cores para cada produto?\n",
        "####*Quais as matérias-prima necessárias para confeccionar as calças?\""
      ],
      "metadata": {
        "id": "yHn_pWAdFh6d"
      }
    },
    {
      "cell_type": "markdown",
      "source": [
        "#Questão de negócio: Qual o melhor preço de venda do produto?\n",
        "1. Identificação da caisa raiz\n",
        "    - Motivação: Qual o contexto?\n",
        "        - A empresa está entrando no mercado de varejo de moda dos USA e não tem expertise para precificar o produto.\n",
        "        -Definição do preço para maximizar o lucro.\n",
        "    \n",
        "    -  Qual é a causa raiz do problema?\n",
        "        - Precificação do produto\n",
        "        - Preço ótimo para maximizar o lucro.\n",
        "\n",
        "2. Definir um escopo fechado para a pergunta aberta.\n",
        "    - Pergunta aberta: Qual o melhor preço de venda do produto?\n",
        "    - Escopo fechado: Produto | Tempo | Localidade | atributo do produto.\n",
        "        - Mediana dos preços dos sites concorrentes por produto, tipo e cor dos últimos 30 dias.\n",
        "\n",
        "3. Quebrar o problema definifo em tarefas menores.\n",
        "    - Mediana dos precos dos sites concorrentes por produto, tipo e cor dos últimos 30 dias\n",
        "\n",
        "    tarefas:\n",
        "        - Calcular a mediana de preco do sites concorrentes por produto, tipo e cor dos últimos 30 dias.\n",
        "        - Montar uma base de dados que contenha informacoes do produto, preço, tipo, cor, dias de exposição.\n",
        "        - Define o schema ( colunas da tabela )\n",
        "        - Define a infraestrutura ( banco de dados, csv, API )\n",
        "        - Design do ETL\n",
        "        - Agendamento da atualizacao da tabela.\n",
        "        - Entrega do produto final \n",
        "    \n",
        "\n",
        "4. Organizar as tarefas por ordem lógica.\n",
        "\n",
        "    1. Montar uma base de dados que contenha informações do produto, preço, tipo, cor, dias de exposoção.\n",
        "    2. Definir o schema ( As colunas que usará )\n",
        "    3. Define a infraestrutura ( Qual banco de dados, API, csv )\n",
        "    4. Fazer o ETL ( A forma que eu vou capturar os dados )\n",
        "    5. Calcular a mediana do preco dos sites concorrentes por produto, tipo e cor dos últimos 30 dias.\n",
        "    6. Fazer a visualização do produto final\n",
        "    7. Entrega do produto final\n",
        "    \n",
        "5. Executar com uma mentalidade cíclica.\n",
        "    1. Eu preciso passar por todas as tarefas o mais rápido possível para:\n",
        "        1. Identificar bloqueios\n",
        "        2. Identificar impeditivos que possam desvalidar o projeto\n",
        "        3. Entregar valor para empresa rapidamente"
      ],
      "metadata": {
        "id": "be-QHn14POu-"
      }
    },
    {
      "cell_type": "markdown",
      "source": [
        "# Entendimento do Negocio"
      ],
      "metadata": {
        "id": "6Rmqoz2C7vfv"
      }
    },
    {
      "cell_type": "markdown",
      "source": [
        "#Metodo SAPE ( Pergunta 1 )"
      ],
      "metadata": {
        "id": "wwSDY0buuzHp"
      }
    },
    {
      "cell_type": "markdown",
      "source": [
        "Problema de Negócio\n",
        "- Qual o melhor preço de venda para calças?\n",
        "\n",
        "# Saída: ( Produto final )\n",
        "\n",
        "1. A resposta para a pergunta.\n",
        "    - Mediana dos precos dos concorrentes\n",
        "\n",
        "2. Formato da entrega\n",
        "    - Tabela ou gráfico\n",
        "\n",
        "3. Local da entrega\n",
        "    - App Streamlit\n",
        "\n",
        "# Processo ( Passo a Passo )\n",
        "\n",
        "1. Passo a passso para construir o cálculo da mediana ou média\n",
        "    - Realizar o calculo da mediana sobre o produto, tipo e cor.\n",
        "\n",
        "2. Definir o formato da entrega ( Visualização, Tabela, Frase )\n",
        "    - Gráfico de barras com mediana dos peços dos produtos, por tipo e cor dos últimos 30 dias,\n",
        "    - Tabela com os seguintes colunas:[ product_name | product_type | product_color | product_price ]\n",
        "    - Definição do schema: Colunas e seu tipo\n",
        "    - Definição da infraestrutura de armazenamento ( SQLite3 )\n",
        "    - Design de ETL ( SCript de Extração , Transformação e Carga )\n",
        "    - Planejamento de agendamento dos scripts ( dependência entre os scripts )\n",
        "    - Fazer as visualizações\n",
        "    - Entrega do produto final\n",
        "\n",
        "\n",
        "3. Decidir o local de entrega ( PowerBi, Telegram, Email, Streamlit, Intranet )\n",
        "    - Dashboard em um App com Streamlit, publicado no Heroku\n",
        "\n",
        "# Entrada ( Fonte de dados )\n",
        "\n",
        "1. Fonte de dados ( SQL, NoSQL, API Restfull, API soup, Dados de websites, csv, outra ferramenta )\n",
        "\n",
        "    - Site da H&M: https://www2.hm.com/pt_pt/search-results.html?q=jeans&department=men_all&sort=stock&image-size=small&image=stillLife&offset=0&page-size=40\n",
        "\n",
        "    - Site Da Macys: https://www.macys.com/shop/mens-clothing/jeans-and-pants/Special_offers/Sales%20%26%20Discounts?id=158042&cm_sp=c2_1111INT_browse_men-sale-%26-clearance-_-row1-_-icon_jeans-%26-pants&edge=hybrid&rbe=rbe_visualnav\n",
        "\n",
        "2. Ferramentas\n",
        "    - Python 3.8.0\n",
        "    - Bibliotecas de Webscrapping ( BS4, Selenium )\n",
        "    - PyCharm\n",
        "    - Jupyter Notebook ( Analise e Prototipagem )\n",
        "    - Crontjob, Airflow\n",
        "    - Streamlit\n"
      ],
      "metadata": {
        "id": "eDHGnhbqozFa"
      }
    },
    {
      "cell_type": "markdown",
      "source": [
        "#Metodo SAPE ( Pergunta 2 )"
      ],
      "metadata": {
        "id": "zUyFM0m7x0cO"
      }
    },
    {
      "cell_type": "markdown",
      "source": [
        "Problema de Negócio\n",
        "- Quantos tipos de calças e suas cores para cada produto?\n",
        "\n",
        "3.4 Saída: ( Produto final )\n",
        "1. A resposta para a pergunta.\n",
        "    - Mediana dos precos dos concorrentes\n",
        "\n",
        "2. Formato da entrega\n",
        "    - Tabela ou gráfico\n",
        "\n",
        "3. Local da entrega\n",
        "    - App Streamlit\n",
        "\n",
        "3.5 Processo ( Passo a Passo )\n",
        "1. Passo a passso para construir o cálculo da mediana ou média\n",
        "    - Realizar o calculo da mediana sobre o produto, tipo e cor.\n",
        "\n",
        "2. Definir o formato da entrega ( Visualização, Tabela, Frase )\n",
        "    - Gráfico de barras com mediana dos peços dos produtos, por tipo e cor dos últimos 30 dias,\n",
        "    - Tabela com os seguintes colunas:[ product_name | product_type | product_color | product_price ]\n",
        "    - Definição do schema: Colunas e seu tipo\n",
        "    - Definição da infraestrutura de armazenamento ( SQLite3 )\n",
        "    - Design de ETL ( SCript de Extração , Transformação e Carga )\n",
        "    - Planejamento de agendamento dos scripts ( dependência entre os scripts )\n",
        "    - Fazer as visualizações\n",
        "    - Entrega do produto final\n",
        "\n",
        "\n",
        "3. Decidir o local de entrega ( PowerBi, Telegram, Email, Streamlit, Intranet )\n",
        "    - App com Streamlit\n",
        "\n",
        "3.6 Entrada ( Fonte de dados )\n",
        "1. Fonte de dados ( SQL, NoSQL, API Restfull, API soup, Dados de websites, csv, outra ferramenta )\n",
        "    - Site da H&M: https://www2.hm.com/pt_pt/index.html\n",
        "    - Site Da Macys: https://www.macys.com/\n",
        "2. Ferramentas\n",
        "    - Python 3.8.0\n",
        "    - Bibliotecas de Webscrapping ( BS4, Selenium )\n",
        "    - PyCharm\n",
        "    - Jupyter Notebook ( Analise e Prototipagem )\n",
        "    - Crontjob, Airflow\n",
        "    - Streamlit"
      ],
      "metadata": {
        "id": "z2Y9y6YnDLXV"
      }
    },
    {
      "cell_type": "markdown",
      "source": [
        "#Metodo SAPE ( Pergunta 3 )"
      ],
      "metadata": {
        "id": "Vzd6w676x9K0"
      }
    },
    {
      "cell_type": "markdown",
      "source": [
        "Problema de Negócio\n",
        "- Quais as matérias-prima necessárias para confeccionar as calças?\n",
        "\n",
        "3.4 Saída: ( Produto final )\n",
        "1. A resposta para a pergunta.\n",
        "    - Mediana dos precos dos concorrentes\n",
        "\n",
        "2. Formato da entrega\n",
        "    - Tabela ou gráfico\n",
        "\n",
        "3. Local da entrega\n",
        "    - App Streamlit\n",
        "\n",
        "3.5 Processo ( Passo a Passo )\n",
        "1. Passo a passso para construir o cálculo da mediana ou média\n",
        "    - Realizar o calculo da mediana sobre o produto, tipo e cor.\n",
        "\n",
        "2. Definir o formato da entrega ( Visualização, Tabela, Frase )\n",
        "    - Gráfico de barras com mediana dos peços dos produtos, por tipo e cor dos últimos 30 dias,\n",
        "    - Tabela com os seguintes colunas:[ product_name | product_type | product_color | product_price ]\n",
        "    - Definição do schema: Colunas e seu tipo\n",
        "    - Definição da infraestrutura de armazenamento ( SQLite3 )\n",
        "    - Design de ETL ( SCript de Extração , Transformação e Carga )\n",
        "    - Planejamento de agendamento dos scripts ( dependência entre os scripts )\n",
        "    - Fazer as visualizações\n",
        "    - Entrega do produto final\n",
        "\n",
        "\n",
        "3. Decidir o local de entrega ( PowerBi, Telegram, Email, Streamlit, Intranet )\n",
        "    - App com Streamlit\n",
        "\n",
        "3.6 Entrada ( Fonte de dados )\n",
        "1. Fonte de dados ( SQL, NoSQL, API Restfull, API soup, Dados de websites, csv, outra ferramenta )\n",
        "    - Site da H&M: https://www2.hm.com/pt_pt/index.html\n",
        "    - Site Da Macys: https://www.macys.com/\n",
        "2. Ferramentas\n",
        "    - Python 3.8.0\n",
        "    - Bibliotecas de Webscrapping ( BS4, Selenium )\n",
        "    - PyCharm\n",
        "    - Jupyter Notebook ( Analise e Prototipagem )\n",
        "    - Crontjob, Airflow\n",
        "    - Streamlit"
      ],
      "metadata": {
        "id": "c8gCABDIDHfK"
      }
    },
    {
      "cell_type": "markdown",
      "source": [
        "# As métricas de um e-commerce\n",
        "## Métricas de crescimento\n",
        "1. Porcentagem de Marketshare\n",
        "2 . Número de Clientes Novos\n",
        "\n",
        "## Métricas de Faturamento\n",
        "1. Número de Vendas\n",
        "2. Ticket Médio\n",
        "3. LTV ( Long Time Value )\n",
        "4. Recência Média\n",
        "5. Basket Size Médio\n",
        "6. Markup Médio\n",
        "\n",
        "## Métricas de Custo\n",
        "1. CAC ( Custo de Aquisição de Clientes )\n",
        "2. Desconto Médio\n",
        "3. Custo de Produção\n",
        "4. Taxa de Devolução\n",
        "5. Custos Fixos ( Folha de pagamento, escritório, softwares )\n",
        "6. Impostos"
      ],
      "metadata": {
        "id": "cONkCf-kygCm"
      }
    },
    {
      "cell_type": "code",
      "source": [
        "import pandas as pd\n",
        "import numpy as np\n",
        "from datetime import datetime\n",
        "import requests\n",
        "from bs4 import BeautifulSoup"
      ],
      "metadata": {
        "id": "wiPdJdYLx7bv"
      },
      "execution_count": 1,
      "outputs": []
    },
    {
      "cell_type": "code",
      "source": [
        "#columns = [ id ],[ product_name ], [ product_type ], [ product_color ], [ composition ], [ preco ]"
      ],
      "metadata": {
        "id": "Do4fRZGtfbZu"
      },
      "execution_count": null,
      "outputs": []
    },
    {
      "cell_type": "markdown",
      "source": [
        "#Scraping da H&M"
      ],
      "metadata": {
        "id": "Jz0B_JQM1Cl1"
      }
    },
    {
      "cell_type": "code",
      "source": [
        "import requests\n",
        "from bs4 import BeautifulSoup\n",
        "\n",
        "url = 'https://www2.hm.com/pt_pt/search-results.html?q=jeans&department=men_all&sort=stock&image-size=small&image=stillLife&offset=0&page-size=40'\n",
        "\n",
        "headers = {\n",
        "    'User-Agent': 'Mozilla/5.0 (macintosh; Intel Mac OS X 10_11_5) AppleWebKit/537.36 (KHTML, like Gecko) Chrome/50.0.2661.102 Safari/537.36'\n",
        "}\n",
        "\n",
        "page = requests.get(url, headers=headers)\n",
        "\n",
        "soup = BeautifulSoup(page.text, 'html.parser')\n",
        "\n",
        "products = soup.find('ul', class_='products-listing small')\n",
        "\n",
        "product_list = products.find_all('article', {'class': 'hm-product-item'})\n",
        "\n",
        "for article in product_list:\n",
        "    print(article)\n"
      ],
      "metadata": {
        "id": "HiQoEsO2AkXY"
      },
      "execution_count": null,
      "outputs": []
    },
    {
      "cell_type": "code",
      "source": [
        "product_list[0].get( 'data-articlecode' )\n",
        "\n",
        "#product_id\n",
        "product_id = [p.get( 'data-articlecode' ) for p in product_list ]\n",
        "\n",
        "#product_category\n",
        "product_category = [p.get( 'data-category' ) for p in product_list ]"
      ],
      "metadata": {
        "id": "26Y_QkTfBRhg"
      },
      "execution_count": 3,
      "outputs": []
    },
    {
      "cell_type": "code",
      "source": [
        "#product_name\n",
        "product_list = products.find_all( 'a', class_='link' )\n",
        "product_name = [p.get_text()for p in product_list]"
      ],
      "metadata": {
        "id": "cpYV2p6sBReX"
      },
      "execution_count": 4,
      "outputs": []
    },
    {
      "cell_type": "code",
      "source": [
        "#preço\n",
        "product_list = products.find_all( 'span', class_='price regular')\n",
        "product_price = [p.get_text() for p in product_list]"
      ],
      "metadata": {
        "id": "vCBscvwkBRbf"
      },
      "execution_count": 5,
      "outputs": []
    },
    {
      "cell_type": "code",
      "source": [
        "data = pd.DataFrame([product_id, product_category, product_name, product_price]).T\n",
        "data.columns = ['product_id', 'product_category', 'product_name', 'product_price']\n",
        "\n",
        "#scrapy datime\n",
        "data['scrapy_datetime'] = datetime.now().strftime( '%Y-%m-%d %H:%M:%S' )"
      ],
      "metadata": {
        "id": "vPIS4vc_BRZC"
      },
      "execution_count": 6,
      "outputs": []
    },
    {
      "cell_type": "code",
      "source": [
        "data"
      ],
      "metadata": {
        "colab": {
          "base_uri": "https://localhost:8080/",
          "height": 1000
        },
        "id": "xzpi_Fg4BRWP",
        "outputId": "0dbc9121-9737-47f6-a296-c4b452a3e4fc"
      },
      "execution_count": 7,
      "outputs": [
        {
          "output_type": "execute_result",
          "data": {
            "text/plain": [
              "    product_id      product_category                product_name  \\\n",
              "0   0875105037     men_jeans_relaxed               Relaxed Jeans   \n",
              "1   1008549006     men_jeans_regular      Straight Regular Jeans   \n",
              "2   0811993048     men_jeans_regular      Straight Regular Jeans   \n",
              "3   0931747006     men_jeans_regular       Tapered Regular Jeans   \n",
              "4   0931747018     men_jeans_regular       Tapered Regular Jeans   \n",
              "5   1024256003        men_jeans_slim                  Slim Jeans   \n",
              "6   1008549001     men_jeans_regular      Straight Regular Jeans   \n",
              "7   0875105036     men_jeans_relaxed               Relaxed Jeans   \n",
              "8   1024711001        men_jeans_slim                  Slim Jeans   \n",
              "9   0811993053     men_jeans_regular      Straight Regular Jeans   \n",
              "10  1024256001        men_jeans_slim                  Slim Jeans   \n",
              "11  1024711010        men_jeans_slim                  Slim Jeans   \n",
              "12  1130309004       men_jeans_loose                 Baggy Jeans   \n",
              "13  1130309001       men_jeans_loose                 Baggy Jeans   \n",
              "14  0811993037     men_jeans_regular      Straight Regular Jeans   \n",
              "15  1024256005        men_jeans_slim                  Slim Jeans   \n",
              "16  0985159008      men_jeans_skinny                Skinny Jeans   \n",
              "17  0875105040     men_jeans_relaxed               Relaxed Jeans   \n",
              "18  1096385001       men_jeans_loose                 Loose Jeans   \n",
              "19  0931747007     men_jeans_regular       Tapered Regular Jeans   \n",
              "20  1024711017        men_jeans_slim                  Slim Jeans   \n",
              "21  0931747020     men_jeans_regular       Tapered Regular Jeans   \n",
              "22  1130309002       men_jeans_loose                 Baggy Jeans   \n",
              "23  1100162005     men_jeans_regular  Essentials No 2: THE JEANS   \n",
              "24  0931747023     men_jeans_regular       Tapered Regular Jeans   \n",
              "25  1096385002       men_jeans_loose                 Loose Jeans   \n",
              "26  0979945003       men_jeans_loose                 Loose Jeans   \n",
              "27  1121155001     men_jeans_regular       Bootcut Regular Jeans   \n",
              "28  0811993034     men_jeans_regular      Straight Regular Jeans   \n",
              "29  1153653003  men_trousers_joggers       Relaxed Denim Joggers   \n",
              "30  1100162002     men_jeans_regular  Essentials No 2: THE JEANS   \n",
              "31  1121155003     men_jeans_regular       Bootcut Regular Jeans   \n",
              "32  1143379001    men_jeans_straight            Jeans estampados   \n",
              "33  1008110001        men_jeans_slim         Freefit® Slim Jeans   \n",
              "34  0875105042     men_jeans_relaxed               Relaxed Jeans   \n",
              "35  0811993041     men_jeans_regular      Straight Regular Jeans   \n",
              "36  0979945001       men_jeans_loose                 Loose Jeans   \n",
              "37  0931747021     men_jeans_regular       Tapered Regular Jeans   \n",
              "38  0985159001      men_jeans_skinny                Skinny Jeans   \n",
              "39  1114023002       men_jeans_loose                 Loose Jeans   \n",
              "\n",
              "   product_price      scrapy_datetime  \n",
              "0        39,99 €  2023-05-27 15:43:15  \n",
              "1        24,99 €  2023-05-27 15:43:15  \n",
              "2        34,99 €  2023-05-27 15:43:15  \n",
              "3        39,99 €  2023-05-27 15:43:15  \n",
              "4        39,99 €  2023-05-27 15:43:15  \n",
              "5        24,99 €  2023-05-27 15:43:15  \n",
              "6        24,99 €  2023-05-27 15:43:15  \n",
              "7        39,99 €  2023-05-27 15:43:15  \n",
              "8        34,99 €  2023-05-27 15:43:15  \n",
              "9        34,99 €  2023-05-27 15:43:15  \n",
              "10       24,99 €  2023-05-27 15:43:15  \n",
              "11       34,99 €  2023-05-27 15:43:15  \n",
              "12       39,99 €  2023-05-27 15:43:15  \n",
              "13       39,99 €  2023-05-27 15:43:15  \n",
              "14       34,99 €  2023-05-27 15:43:15  \n",
              "15       24,99 €  2023-05-27 15:43:15  \n",
              "16       24,99 €  2023-05-27 15:43:15  \n",
              "17       39,99 €  2023-05-27 15:43:15  \n",
              "18       29,99 €  2023-05-27 15:43:15  \n",
              "19       39,99 €  2023-05-27 15:43:15  \n",
              "20       34,99 €  2023-05-27 15:43:15  \n",
              "21       39,99 €  2023-05-27 15:43:15  \n",
              "22       39,99 €  2023-05-27 15:43:15  \n",
              "23       39,99 €  2023-05-27 15:43:15  \n",
              "24       39,99 €  2023-05-27 15:43:15  \n",
              "25       29,99 €  2023-05-27 15:43:15  \n",
              "26       39,99 €  2023-05-27 15:43:15  \n",
              "27       39,99 €  2023-05-27 15:43:15  \n",
              "28       34,99 €  2023-05-27 15:43:15  \n",
              "29       34,99 €  2023-05-27 15:43:15  \n",
              "30       39,99 €  2023-05-27 15:43:15  \n",
              "31       39,99 €  2023-05-27 15:43:15  \n",
              "32       79,99 €  2023-05-27 15:43:15  \n",
              "33       49,99 €  2023-05-27 15:43:15  \n",
              "34       39,99 €  2023-05-27 15:43:15  \n",
              "35       34,99 €  2023-05-27 15:43:15  \n",
              "36       39,99 €  2023-05-27 15:43:15  \n",
              "37       39,99 €  2023-05-27 15:43:15  \n",
              "38       24,99 €  2023-05-27 15:43:15  \n",
              "39       44,99 €  2023-05-27 15:43:15  "
            ],
            "text/html": [
              "\n",
              "  <div id=\"df-c40d6d5f-d089-4843-9c16-61a6659251d1\">\n",
              "    <div class=\"colab-df-container\">\n",
              "      <div>\n",
              "<style scoped>\n",
              "    .dataframe tbody tr th:only-of-type {\n",
              "        vertical-align: middle;\n",
              "    }\n",
              "\n",
              "    .dataframe tbody tr th {\n",
              "        vertical-align: top;\n",
              "    }\n",
              "\n",
              "    .dataframe thead th {\n",
              "        text-align: right;\n",
              "    }\n",
              "</style>\n",
              "<table border=\"1\" class=\"dataframe\">\n",
              "  <thead>\n",
              "    <tr style=\"text-align: right;\">\n",
              "      <th></th>\n",
              "      <th>product_id</th>\n",
              "      <th>product_category</th>\n",
              "      <th>product_name</th>\n",
              "      <th>product_price</th>\n",
              "      <th>scrapy_datetime</th>\n",
              "    </tr>\n",
              "  </thead>\n",
              "  <tbody>\n",
              "    <tr>\n",
              "      <th>0</th>\n",
              "      <td>0875105037</td>\n",
              "      <td>men_jeans_relaxed</td>\n",
              "      <td>Relaxed Jeans</td>\n",
              "      <td>39,99 €</td>\n",
              "      <td>2023-05-27 15:43:15</td>\n",
              "    </tr>\n",
              "    <tr>\n",
              "      <th>1</th>\n",
              "      <td>1008549006</td>\n",
              "      <td>men_jeans_regular</td>\n",
              "      <td>Straight Regular Jeans</td>\n",
              "      <td>24,99 €</td>\n",
              "      <td>2023-05-27 15:43:15</td>\n",
              "    </tr>\n",
              "    <tr>\n",
              "      <th>2</th>\n",
              "      <td>0811993048</td>\n",
              "      <td>men_jeans_regular</td>\n",
              "      <td>Straight Regular Jeans</td>\n",
              "      <td>34,99 €</td>\n",
              "      <td>2023-05-27 15:43:15</td>\n",
              "    </tr>\n",
              "    <tr>\n",
              "      <th>3</th>\n",
              "      <td>0931747006</td>\n",
              "      <td>men_jeans_regular</td>\n",
              "      <td>Tapered Regular Jeans</td>\n",
              "      <td>39,99 €</td>\n",
              "      <td>2023-05-27 15:43:15</td>\n",
              "    </tr>\n",
              "    <tr>\n",
              "      <th>4</th>\n",
              "      <td>0931747018</td>\n",
              "      <td>men_jeans_regular</td>\n",
              "      <td>Tapered Regular Jeans</td>\n",
              "      <td>39,99 €</td>\n",
              "      <td>2023-05-27 15:43:15</td>\n",
              "    </tr>\n",
              "    <tr>\n",
              "      <th>5</th>\n",
              "      <td>1024256003</td>\n",
              "      <td>men_jeans_slim</td>\n",
              "      <td>Slim Jeans</td>\n",
              "      <td>24,99 €</td>\n",
              "      <td>2023-05-27 15:43:15</td>\n",
              "    </tr>\n",
              "    <tr>\n",
              "      <th>6</th>\n",
              "      <td>1008549001</td>\n",
              "      <td>men_jeans_regular</td>\n",
              "      <td>Straight Regular Jeans</td>\n",
              "      <td>24,99 €</td>\n",
              "      <td>2023-05-27 15:43:15</td>\n",
              "    </tr>\n",
              "    <tr>\n",
              "      <th>7</th>\n",
              "      <td>0875105036</td>\n",
              "      <td>men_jeans_relaxed</td>\n",
              "      <td>Relaxed Jeans</td>\n",
              "      <td>39,99 €</td>\n",
              "      <td>2023-05-27 15:43:15</td>\n",
              "    </tr>\n",
              "    <tr>\n",
              "      <th>8</th>\n",
              "      <td>1024711001</td>\n",
              "      <td>men_jeans_slim</td>\n",
              "      <td>Slim Jeans</td>\n",
              "      <td>34,99 €</td>\n",
              "      <td>2023-05-27 15:43:15</td>\n",
              "    </tr>\n",
              "    <tr>\n",
              "      <th>9</th>\n",
              "      <td>0811993053</td>\n",
              "      <td>men_jeans_regular</td>\n",
              "      <td>Straight Regular Jeans</td>\n",
              "      <td>34,99 €</td>\n",
              "      <td>2023-05-27 15:43:15</td>\n",
              "    </tr>\n",
              "    <tr>\n",
              "      <th>10</th>\n",
              "      <td>1024256001</td>\n",
              "      <td>men_jeans_slim</td>\n",
              "      <td>Slim Jeans</td>\n",
              "      <td>24,99 €</td>\n",
              "      <td>2023-05-27 15:43:15</td>\n",
              "    </tr>\n",
              "    <tr>\n",
              "      <th>11</th>\n",
              "      <td>1024711010</td>\n",
              "      <td>men_jeans_slim</td>\n",
              "      <td>Slim Jeans</td>\n",
              "      <td>34,99 €</td>\n",
              "      <td>2023-05-27 15:43:15</td>\n",
              "    </tr>\n",
              "    <tr>\n",
              "      <th>12</th>\n",
              "      <td>1130309004</td>\n",
              "      <td>men_jeans_loose</td>\n",
              "      <td>Baggy Jeans</td>\n",
              "      <td>39,99 €</td>\n",
              "      <td>2023-05-27 15:43:15</td>\n",
              "    </tr>\n",
              "    <tr>\n",
              "      <th>13</th>\n",
              "      <td>1130309001</td>\n",
              "      <td>men_jeans_loose</td>\n",
              "      <td>Baggy Jeans</td>\n",
              "      <td>39,99 €</td>\n",
              "      <td>2023-05-27 15:43:15</td>\n",
              "    </tr>\n",
              "    <tr>\n",
              "      <th>14</th>\n",
              "      <td>0811993037</td>\n",
              "      <td>men_jeans_regular</td>\n",
              "      <td>Straight Regular Jeans</td>\n",
              "      <td>34,99 €</td>\n",
              "      <td>2023-05-27 15:43:15</td>\n",
              "    </tr>\n",
              "    <tr>\n",
              "      <th>15</th>\n",
              "      <td>1024256005</td>\n",
              "      <td>men_jeans_slim</td>\n",
              "      <td>Slim Jeans</td>\n",
              "      <td>24,99 €</td>\n",
              "      <td>2023-05-27 15:43:15</td>\n",
              "    </tr>\n",
              "    <tr>\n",
              "      <th>16</th>\n",
              "      <td>0985159008</td>\n",
              "      <td>men_jeans_skinny</td>\n",
              "      <td>Skinny Jeans</td>\n",
              "      <td>24,99 €</td>\n",
              "      <td>2023-05-27 15:43:15</td>\n",
              "    </tr>\n",
              "    <tr>\n",
              "      <th>17</th>\n",
              "      <td>0875105040</td>\n",
              "      <td>men_jeans_relaxed</td>\n",
              "      <td>Relaxed Jeans</td>\n",
              "      <td>39,99 €</td>\n",
              "      <td>2023-05-27 15:43:15</td>\n",
              "    </tr>\n",
              "    <tr>\n",
              "      <th>18</th>\n",
              "      <td>1096385001</td>\n",
              "      <td>men_jeans_loose</td>\n",
              "      <td>Loose Jeans</td>\n",
              "      <td>29,99 €</td>\n",
              "      <td>2023-05-27 15:43:15</td>\n",
              "    </tr>\n",
              "    <tr>\n",
              "      <th>19</th>\n",
              "      <td>0931747007</td>\n",
              "      <td>men_jeans_regular</td>\n",
              "      <td>Tapered Regular Jeans</td>\n",
              "      <td>39,99 €</td>\n",
              "      <td>2023-05-27 15:43:15</td>\n",
              "    </tr>\n",
              "    <tr>\n",
              "      <th>20</th>\n",
              "      <td>1024711017</td>\n",
              "      <td>men_jeans_slim</td>\n",
              "      <td>Slim Jeans</td>\n",
              "      <td>34,99 €</td>\n",
              "      <td>2023-05-27 15:43:15</td>\n",
              "    </tr>\n",
              "    <tr>\n",
              "      <th>21</th>\n",
              "      <td>0931747020</td>\n",
              "      <td>men_jeans_regular</td>\n",
              "      <td>Tapered Regular Jeans</td>\n",
              "      <td>39,99 €</td>\n",
              "      <td>2023-05-27 15:43:15</td>\n",
              "    </tr>\n",
              "    <tr>\n",
              "      <th>22</th>\n",
              "      <td>1130309002</td>\n",
              "      <td>men_jeans_loose</td>\n",
              "      <td>Baggy Jeans</td>\n",
              "      <td>39,99 €</td>\n",
              "      <td>2023-05-27 15:43:15</td>\n",
              "    </tr>\n",
              "    <tr>\n",
              "      <th>23</th>\n",
              "      <td>1100162005</td>\n",
              "      <td>men_jeans_regular</td>\n",
              "      <td>Essentials No 2: THE JEANS</td>\n",
              "      <td>39,99 €</td>\n",
              "      <td>2023-05-27 15:43:15</td>\n",
              "    </tr>\n",
              "    <tr>\n",
              "      <th>24</th>\n",
              "      <td>0931747023</td>\n",
              "      <td>men_jeans_regular</td>\n",
              "      <td>Tapered Regular Jeans</td>\n",
              "      <td>39,99 €</td>\n",
              "      <td>2023-05-27 15:43:15</td>\n",
              "    </tr>\n",
              "    <tr>\n",
              "      <th>25</th>\n",
              "      <td>1096385002</td>\n",
              "      <td>men_jeans_loose</td>\n",
              "      <td>Loose Jeans</td>\n",
              "      <td>29,99 €</td>\n",
              "      <td>2023-05-27 15:43:15</td>\n",
              "    </tr>\n",
              "    <tr>\n",
              "      <th>26</th>\n",
              "      <td>0979945003</td>\n",
              "      <td>men_jeans_loose</td>\n",
              "      <td>Loose Jeans</td>\n",
              "      <td>39,99 €</td>\n",
              "      <td>2023-05-27 15:43:15</td>\n",
              "    </tr>\n",
              "    <tr>\n",
              "      <th>27</th>\n",
              "      <td>1121155001</td>\n",
              "      <td>men_jeans_regular</td>\n",
              "      <td>Bootcut Regular Jeans</td>\n",
              "      <td>39,99 €</td>\n",
              "      <td>2023-05-27 15:43:15</td>\n",
              "    </tr>\n",
              "    <tr>\n",
              "      <th>28</th>\n",
              "      <td>0811993034</td>\n",
              "      <td>men_jeans_regular</td>\n",
              "      <td>Straight Regular Jeans</td>\n",
              "      <td>34,99 €</td>\n",
              "      <td>2023-05-27 15:43:15</td>\n",
              "    </tr>\n",
              "    <tr>\n",
              "      <th>29</th>\n",
              "      <td>1153653003</td>\n",
              "      <td>men_trousers_joggers</td>\n",
              "      <td>Relaxed Denim Joggers</td>\n",
              "      <td>34,99 €</td>\n",
              "      <td>2023-05-27 15:43:15</td>\n",
              "    </tr>\n",
              "    <tr>\n",
              "      <th>30</th>\n",
              "      <td>1100162002</td>\n",
              "      <td>men_jeans_regular</td>\n",
              "      <td>Essentials No 2: THE JEANS</td>\n",
              "      <td>39,99 €</td>\n",
              "      <td>2023-05-27 15:43:15</td>\n",
              "    </tr>\n",
              "    <tr>\n",
              "      <th>31</th>\n",
              "      <td>1121155003</td>\n",
              "      <td>men_jeans_regular</td>\n",
              "      <td>Bootcut Regular Jeans</td>\n",
              "      <td>39,99 €</td>\n",
              "      <td>2023-05-27 15:43:15</td>\n",
              "    </tr>\n",
              "    <tr>\n",
              "      <th>32</th>\n",
              "      <td>1143379001</td>\n",
              "      <td>men_jeans_straight</td>\n",
              "      <td>Jeans estampados</td>\n",
              "      <td>79,99 €</td>\n",
              "      <td>2023-05-27 15:43:15</td>\n",
              "    </tr>\n",
              "    <tr>\n",
              "      <th>33</th>\n",
              "      <td>1008110001</td>\n",
              "      <td>men_jeans_slim</td>\n",
              "      <td>Freefit® Slim Jeans</td>\n",
              "      <td>49,99 €</td>\n",
              "      <td>2023-05-27 15:43:15</td>\n",
              "    </tr>\n",
              "    <tr>\n",
              "      <th>34</th>\n",
              "      <td>0875105042</td>\n",
              "      <td>men_jeans_relaxed</td>\n",
              "      <td>Relaxed Jeans</td>\n",
              "      <td>39,99 €</td>\n",
              "      <td>2023-05-27 15:43:15</td>\n",
              "    </tr>\n",
              "    <tr>\n",
              "      <th>35</th>\n",
              "      <td>0811993041</td>\n",
              "      <td>men_jeans_regular</td>\n",
              "      <td>Straight Regular Jeans</td>\n",
              "      <td>34,99 €</td>\n",
              "      <td>2023-05-27 15:43:15</td>\n",
              "    </tr>\n",
              "    <tr>\n",
              "      <th>36</th>\n",
              "      <td>0979945001</td>\n",
              "      <td>men_jeans_loose</td>\n",
              "      <td>Loose Jeans</td>\n",
              "      <td>39,99 €</td>\n",
              "      <td>2023-05-27 15:43:15</td>\n",
              "    </tr>\n",
              "    <tr>\n",
              "      <th>37</th>\n",
              "      <td>0931747021</td>\n",
              "      <td>men_jeans_regular</td>\n",
              "      <td>Tapered Regular Jeans</td>\n",
              "      <td>39,99 €</td>\n",
              "      <td>2023-05-27 15:43:15</td>\n",
              "    </tr>\n",
              "    <tr>\n",
              "      <th>38</th>\n",
              "      <td>0985159001</td>\n",
              "      <td>men_jeans_skinny</td>\n",
              "      <td>Skinny Jeans</td>\n",
              "      <td>24,99 €</td>\n",
              "      <td>2023-05-27 15:43:15</td>\n",
              "    </tr>\n",
              "    <tr>\n",
              "      <th>39</th>\n",
              "      <td>1114023002</td>\n",
              "      <td>men_jeans_loose</td>\n",
              "      <td>Loose Jeans</td>\n",
              "      <td>44,99 €</td>\n",
              "      <td>2023-05-27 15:43:15</td>\n",
              "    </tr>\n",
              "  </tbody>\n",
              "</table>\n",
              "</div>\n",
              "      <button class=\"colab-df-convert\" onclick=\"convertToInteractive('df-c40d6d5f-d089-4843-9c16-61a6659251d1')\"\n",
              "              title=\"Convert this dataframe to an interactive table.\"\n",
              "              style=\"display:none;\">\n",
              "        \n",
              "  <svg xmlns=\"http://www.w3.org/2000/svg\" height=\"24px\"viewBox=\"0 0 24 24\"\n",
              "       width=\"24px\">\n",
              "    <path d=\"M0 0h24v24H0V0z\" fill=\"none\"/>\n",
              "    <path d=\"M18.56 5.44l.94 2.06.94-2.06 2.06-.94-2.06-.94-.94-2.06-.94 2.06-2.06.94zm-11 1L8.5 8.5l.94-2.06 2.06-.94-2.06-.94L8.5 2.5l-.94 2.06-2.06.94zm10 10l.94 2.06.94-2.06 2.06-.94-2.06-.94-.94-2.06-.94 2.06-2.06.94z\"/><path d=\"M17.41 7.96l-1.37-1.37c-.4-.4-.92-.59-1.43-.59-.52 0-1.04.2-1.43.59L10.3 9.45l-7.72 7.72c-.78.78-.78 2.05 0 2.83L4 21.41c.39.39.9.59 1.41.59.51 0 1.02-.2 1.41-.59l7.78-7.78 2.81-2.81c.8-.78.8-2.07 0-2.86zM5.41 20L4 18.59l7.72-7.72 1.47 1.35L5.41 20z\"/>\n",
              "  </svg>\n",
              "      </button>\n",
              "      \n",
              "  <style>\n",
              "    .colab-df-container {\n",
              "      display:flex;\n",
              "      flex-wrap:wrap;\n",
              "      gap: 12px;\n",
              "    }\n",
              "\n",
              "    .colab-df-convert {\n",
              "      background-color: #E8F0FE;\n",
              "      border: none;\n",
              "      border-radius: 50%;\n",
              "      cursor: pointer;\n",
              "      display: none;\n",
              "      fill: #1967D2;\n",
              "      height: 32px;\n",
              "      padding: 0 0 0 0;\n",
              "      width: 32px;\n",
              "    }\n",
              "\n",
              "    .colab-df-convert:hover {\n",
              "      background-color: #E2EBFA;\n",
              "      box-shadow: 0px 1px 2px rgba(60, 64, 67, 0.3), 0px 1px 3px 1px rgba(60, 64, 67, 0.15);\n",
              "      fill: #174EA6;\n",
              "    }\n",
              "\n",
              "    [theme=dark] .colab-df-convert {\n",
              "      background-color: #3B4455;\n",
              "      fill: #D2E3FC;\n",
              "    }\n",
              "\n",
              "    [theme=dark] .colab-df-convert:hover {\n",
              "      background-color: #434B5C;\n",
              "      box-shadow: 0px 1px 3px 1px rgba(0, 0, 0, 0.15);\n",
              "      filter: drop-shadow(0px 1px 2px rgba(0, 0, 0, 0.3));\n",
              "      fill: #FFFFFF;\n",
              "    }\n",
              "  </style>\n",
              "\n",
              "      <script>\n",
              "        const buttonEl =\n",
              "          document.querySelector('#df-c40d6d5f-d089-4843-9c16-61a6659251d1 button.colab-df-convert');\n",
              "        buttonEl.style.display =\n",
              "          google.colab.kernel.accessAllowed ? 'block' : 'none';\n",
              "\n",
              "        async function convertToInteractive(key) {\n",
              "          const element = document.querySelector('#df-c40d6d5f-d089-4843-9c16-61a6659251d1');\n",
              "          const dataTable =\n",
              "            await google.colab.kernel.invokeFunction('convertToInteractive',\n",
              "                                                     [key], {});\n",
              "          if (!dataTable) return;\n",
              "\n",
              "          const docLinkHtml = 'Like what you see? Visit the ' +\n",
              "            '<a target=\"_blank\" href=https://colab.research.google.com/notebooks/data_table.ipynb>data table notebook</a>'\n",
              "            + ' to learn more about interactive tables.';\n",
              "          element.innerHTML = '';\n",
              "          dataTable['output_type'] = 'display_data';\n",
              "          await google.colab.output.renderOutput(dataTable, element);\n",
              "          const docLink = document.createElement('div');\n",
              "          docLink.innerHTML = docLinkHtml;\n",
              "          element.appendChild(docLink);\n",
              "        }\n",
              "      </script>\n",
              "    </div>\n",
              "  </div>\n",
              "  "
            ]
          },
          "metadata": {},
          "execution_count": 7
        }
      ]
    },
    {
      "cell_type": "markdown",
      "source": [
        "# Reunindo a paginação da API"
      ],
      "metadata": {
        "id": "lWUbOXGP5RUs"
      }
    },
    {
      "cell_type": "code",
      "source": [
        "url = 'https://www2.hm.com/pt_pt/search-results.html?q=jeans&department=men_all&sort=stock&image-size=small&image=stillLife&offset=0&page-size=40'\n",
        "\n",
        "headers = {\n",
        "    'User-Agent': 'Mozilla/5.0 (macintosh; Intel Mac OS X 10_11_5) AppleWebKit/537.36 (KHTML, like Gecko) Chrome/50.0.2661.102 Safari/537.36'\n",
        "}\n",
        "\n",
        "page = requests.get(url, headers=headers)\n",
        "\n",
        "soup = BeautifulSoup(page.text, 'html.parser')"
      ],
      "metadata": {
        "id": "yJNuqxBSBRTb"
      },
      "execution_count": 8,
      "outputs": []
    },
    {
      "cell_type": "code",
      "source": [
        "total_item = soup.find_all(\"h2\", class_='load-more-heading')[0].get('data-total')\n",
        "total_item"
      ],
      "metadata": {
        "colab": {
          "base_uri": "https://localhost:8080/",
          "height": 35
        },
        "id": "dH1xp4jmxzmL",
        "outputId": "90edd147-7c90-441e-85d9-9bdf320363f4"
      },
      "execution_count": 9,
      "outputs": [
        {
          "output_type": "execute_result",
          "data": {
            "text/plain": [
              "'109'"
            ],
            "application/vnd.google.colaboratory.intrinsic+json": {
              "type": "string"
            }
          },
          "metadata": {},
          "execution_count": 9
        }
      ]
    },
    {
      "cell_type": "code",
      "source": [
        "numero_pagina = np.round( int( total_item ) / 36 )\n",
        "numero_pagina"
      ],
      "metadata": {
        "colab": {
          "base_uri": "https://localhost:8080/"
        },
        "id": "_NT-VMj05daF",
        "outputId": "1b1b0a69-4402-4074-9b52-b61931c35d06"
      },
      "execution_count": 10,
      "outputs": [
        {
          "output_type": "execute_result",
          "data": {
            "text/plain": [
              "3.0"
            ]
          },
          "metadata": {},
          "execution_count": 10
        }
      ]
    },
    {
      "cell_type": "code",
      "source": [
        "url02 = url + '?page-size=' + str( int( numero_pagina*36 ) )\n",
        "url02"
      ],
      "metadata": {
        "colab": {
          "base_uri": "https://localhost:8080/",
          "height": 53
        },
        "id": "n7N0akWf5dQ9",
        "outputId": "025c2a56-c92f-4f49-9bbf-c74477895cce"
      },
      "execution_count": 11,
      "outputs": [
        {
          "output_type": "execute_result",
          "data": {
            "text/plain": [
              "'https://www2.hm.com/pt_pt/search-results.html?q=jeans&department=men_all&sort=stock&image-size=small&image=stillLife&offset=0&page-size=40?page-size=108'"
            ],
            "application/vnd.google.colaboratory.intrinsic+json": {
              "type": "string"
            }
          },
          "metadata": {},
          "execution_count": 11
        }
      ]
    },
    {
      "cell_type": "markdown",
      "source": [
        "# Scraping 2 - H&M "
      ],
      "metadata": {
        "id": "RWsW-c_w_Ch4"
      }
    },
    {
      "cell_type": "code",
      "source": [
        "import requests\n",
        "from bs4 import BeautifulSoup\n",
        "\n",
        "url = 'https://www2.hm.com/pt_pt/productpage.0811993048.html'\n",
        "\n",
        "headers = {\n",
        "    'User-Agent': 'Mozilla/5.0 (macintosh; Intel Mac OS X 10_11_5) AppleWebKit/537.36 (KHTML, like Gecko) Chrome/50.0.2661.102 Safari/537.36'\n",
        "}\n",
        "\n",
        "page = requests.get(url, headers=headers)\n",
        "\n",
        "soup = BeautifulSoup(page.text, 'html.parser')\n"
      ],
      "metadata": {
        "id": "v7Tk5j3E81RC"
      },
      "execution_count": 12,
      "outputs": []
    },
    {
      "cell_type": "code",
      "source": [
        "#color_name\n",
        "product_color_list = soup.find_all( 'a', class_='filter-option miniature' )\n",
        "\n",
        "color_name = [p.get( 'data-color' ) for p in product_color_list]"
      ],
      "metadata": {
        "id": "ZqeHY7o581OL"
      },
      "execution_count": 13,
      "outputs": []
    },
    {
      "cell_type": "code",
      "source": [
        "product_id = [p.get( 'data-articlecode' ) for p in product_color_list]"
      ],
      "metadata": {
        "id": "sKU1VibH81KY"
      },
      "execution_count": 14,
      "outputs": []
    },
    {
      "cell_type": "code",
      "source": [
        "df_color = pd.DataFrame( [product_id, color_name] ).T\n",
        "df_color.columns = ['product_id', 'color_name']"
      ],
      "metadata": {
        "id": "MKjaQJb381Ea"
      },
      "execution_count": 15,
      "outputs": []
    },
    {
      "cell_type": "code",
      "source": [
        "#composition\n"
      ],
      "metadata": {
        "id": "eVpKQho380-o"
      },
      "execution_count": null,
      "outputs": []
    },
    {
      "cell_type": "code",
      "source": [],
      "metadata": {
        "id": "1UqX7mwF8078"
      },
      "execution_count": null,
      "outputs": []
    },
    {
      "cell_type": "code",
      "source": [],
      "metadata": {
        "id": "XjBAEYO5805A"
      },
      "execution_count": null,
      "outputs": []
    },
    {
      "cell_type": "code",
      "source": [],
      "metadata": {
        "id": "o19HkFD3802a"
      },
      "execution_count": null,
      "outputs": []
    },
    {
      "cell_type": "code",
      "source": [],
      "metadata": {
        "id": "yqvNkf-480z8"
      },
      "execution_count": null,
      "outputs": []
    },
    {
      "cell_type": "code",
      "source": [],
      "metadata": {
        "id": "WYXzWYBD80ws"
      },
      "execution_count": null,
      "outputs": []
    },
    {
      "cell_type": "markdown",
      "source": [
        "# Scraping da Macys"
      ],
      "metadata": {
        "id": "eCRTHjTJ1RsU"
      }
    },
    {
      "cell_type": "code",
      "source": [],
      "metadata": {
        "id": "DB2wBmTixziJ"
      },
      "execution_count": null,
      "outputs": []
    },
    {
      "cell_type": "code",
      "source": [],
      "metadata": {
        "id": "xlQXIMIexzeS"
      },
      "execution_count": null,
      "outputs": []
    },
    {
      "cell_type": "code",
      "source": [],
      "metadata": {
        "id": "ocSwohsaxzYy"
      },
      "execution_count": null,
      "outputs": []
    },
    {
      "cell_type": "code",
      "source": [],
      "metadata": {
        "id": "Z2ExsUThxzN_"
      },
      "execution_count": null,
      "outputs": []
    },
    {
      "cell_type": "code",
      "source": [
        "url = 'https://www2.hm.com/pt_pt/search-results.html?q=jeans&department=men_all&sort=stock&image-size=small&image=stillLife&offset=0&page-size=40'\n",
        "\n",
        "headers = {'User-Agent': 'Mozilla/5.0 (macintosh; Intel Mac OS X 10_11_5) AppleWebKit/537.36 ( KHTML, like Gecko) Chrome/50.0.2661.102 Safari/537.36'}\n",
        "\n",
        "page = requests.get( url, headers=headers )"
      ],
      "metadata": {
        "id": "aJmlkqXx0hyq"
      },
      "execution_count": null,
      "outputs": []
    },
    {
      "cell_type": "code",
      "source": [
        "soup = BeautifulSoup( page.text, 'html.parser' )"
      ],
      "metadata": {
        "id": "QAq92DWN0oQw"
      },
      "execution_count": null,
      "outputs": []
    },
    {
      "cell_type": "code",
      "source": [
        "products = soup.find( 'ul', class_='products-listing small' )"
      ],
      "metadata": {
        "id": "Fxrpn862iBbJ"
      },
      "execution_count": null,
      "outputs": []
    },
    {
      "cell_type": "code",
      "source": [
        "products"
      ],
      "metadata": {
        "id": "qXNxIXnO-2jb"
      },
      "execution_count": null,
      "outputs": []
    },
    {
      "cell_type": "code",
      "source": [
        "products.findall('article', {'class': 'hm-product-item', 'data-articlecode': '0690449062'})"
      ],
      "metadata": {
        "colab": {
          "base_uri": "https://localhost:8080/",
          "height": 183
        },
        "id": "tbJfJiqy_nWU",
        "outputId": "33a6fb91-f7bd-4b0f-b24f-5112a52a16b5"
      },
      "execution_count": null,
      "outputs": [
        {
          "output_type": "error",
          "ename": "TypeError",
          "evalue": "ignored",
          "traceback": [
            "\u001b[0;31m---------------------------------------------------------------------------\u001b[0m",
            "\u001b[0;31mTypeError\u001b[0m                                 Traceback (most recent call last)",
            "\u001b[0;32m<ipython-input-17-3e8ff7f419fc>\u001b[0m in \u001b[0;36m<cell line: 1>\u001b[0;34m()\u001b[0m\n\u001b[0;32m----> 1\u001b[0;31m \u001b[0mproducts\u001b[0m\u001b[0;34m.\u001b[0m\u001b[0mfindall\u001b[0m\u001b[0;34m(\u001b[0m\u001b[0;34m'article'\u001b[0m\u001b[0;34m,\u001b[0m \u001b[0;34m{\u001b[0m\u001b[0;34m'class'\u001b[0m\u001b[0;34m:\u001b[0m \u001b[0;34m'hm-product-item'\u001b[0m\u001b[0;34m,\u001b[0m \u001b[0;34m'data-articlecode'\u001b[0m\u001b[0;34m:\u001b[0m \u001b[0;34m'0690449062'\u001b[0m\u001b[0;34m}\u001b[0m\u001b[0;34m)\u001b[0m\u001b[0;34m\u001b[0m\u001b[0;34m\u001b[0m\u001b[0m\n\u001b[0m",
            "\u001b[0;31mTypeError\u001b[0m: 'NoneType' object is not callable"
          ]
        }
      ]
    },
    {
      "cell_type": "code",
      "source": [
        "products.findall( 'article', class=\"hm-product-item\" data-articlecode=\"0690449062\" )"
      ],
      "metadata": {
        "colab": {
          "base_uri": "https://localhost:8080/",
          "height": 130
        },
        "id": "qdNWJdcUimy1",
        "outputId": "3fc6c31d-a504-4cf0-de64-a27649c07154"
      },
      "execution_count": null,
      "outputs": [
        {
          "output_type": "error",
          "ename": "SyntaxError",
          "evalue": "ignored",
          "traceback": [
            "\u001b[0;36m  File \u001b[0;32m\"<ipython-input-15-5fc5c2f48004>\"\u001b[0;36m, line \u001b[0;32m1\u001b[0m\n\u001b[0;31m    products.findall( 'article', class=\"hm-product-item\" data-articlecode=\"0690449062\" )\u001b[0m\n\u001b[0m                                 ^\u001b[0m\n\u001b[0;31mSyntaxError\u001b[0m\u001b[0;31m:\u001b[0m invalid syntax\n"
          ]
        }
      ]
    },
    {
      "cell_type": "code",
      "source": [],
      "metadata": {
        "id": "XAA81sBCkDjm"
      },
      "execution_count": null,
      "outputs": []
    }
  ]
}